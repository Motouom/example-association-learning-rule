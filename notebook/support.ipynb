{
 "cells": [
  {
   "cell_type": "code",
   "execution_count": 2,
   "id": "initial_id",
   "metadata": {
    "collapsed": true
   },
   "outputs": [],
   "source": [
    "from test.test_support import *"
   ]
  },
  {
   "cell_type": "code",
   "execution_count": 3,
   "metadata": {},
   "outputs": [
    {
     "name": "stdout",
     "output_type": "stream",
     "text": [
      "support value for: ['bread', 'milk'] is 0.6\n"
     ]
    }
   ],
   "source": [
    "dataset = [\n",
    "    ['bread', 'milk'],\n",
    "    ['bread', 'diaper', 'beer', 'eggs'],\n",
    "    ['milk', 'diaper', 'beer', 'cola'],\n",
    "    ['bread', 'milk', 'diaper', 'beer'],\n",
    "    ['bread', 'milk', 'diaper', 'cola']\n",
    "]\n",
    "itemset = ['bread', 'milk']\n",
    "\n",
    "\"\"\"\n",
    "checking if the dataset is empty or not to defore continue\n",
    "\"\"\"\n",
    "if len(dataset) != 0:\n",
    "\n",
    "    item_occurrence = 0\n",
    "    for items in range(len(dataset)):\n",
    "        \"\"\"\n",
    "    comparing the elements in the itemset to those in the dataset to see the list that satisfies the itemsets\n",
    "    \"\"\"\n",
    "\n",
    "        if itemset[0] in dataset[items] and itemset[1] in dataset[items]:\n",
    "            item_occurrence = item_occurrence + 1\n",
    "    \"\"\"\n",
    "    throwing an error message if the dataset is empty\n",
    "    \"\"\"\n",
    "else:\n",
    "    print(f\"error:{dataset} is empty\")\n",
    "\n",
    "support = item_occurrence / len(dataset)\n",
    "\n",
    "\n",
    "print(f\"support value for: {itemset} is {support}\")\n"
   ]
  }
 ],
 "metadata": {
  "kernelspec": {
   "display_name": "Python 3",
   "language": "python",
   "name": "python3"
  },
  "language_info": {
   "codemirror_mode": {
    "name": "ipython",
    "version": 3
   },
   "file_extension": ".py",
   "mimetype": "text/x-python",
   "name": "python",
   "nbconvert_exporter": "python",
   "pygments_lexer": "ipython3",
   "version": "3.10.12"
  }
 },
 "nbformat": 4,
 "nbformat_minor": 5
}
