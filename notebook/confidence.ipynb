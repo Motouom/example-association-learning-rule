{
 "cells": [
  {
   "cell_type": "code",
   "execution_count": 7,
   "id": "0df8ea7c",
   "metadata": {},
   "outputs": [
    {
     "name": "stdout",
     "output_type": "stream",
     "text": [
      "support value for: ['bread', 'milk'] is 0.6\n",
      "Confidence for rule (['bread'], ['milk']): 0.75\n"
     ]
    }
   ],
   "source": [
    "import sys\n",
    "sys.path.append('/home/motouom/Desktop/New Folder/example-association-learning-rule/src')\n",
    "from confidence import confidence\n",
    "\n",
    "dataset = [\n",
    "            ['bread', 'milk'],\n",
    "            ['bread', 'diaper', 'beer', 'eggs'],\n",
    "            ['milk', 'diaper', 'beer', 'cola'],\n",
    "            ['bread', 'milk', 'diaper', 'beer'],\n",
    "            ['bread', 'milk', 'diaper', 'cola']\n",
    "        ]\n",
    "rule = (['bread'], ['milk'])  \n",
    "\n",
    "confidence_value = confidence(dataset, rule)\n",
    "print(f\"Confidence for rule {rule}: {confidence_value}\")"
   ]
  }
 ],
 "metadata": {
  "kernelspec": {
   "display_name": "Python 3",
   "language": "python",
   "name": "python3"
  },
  "language_info": {
   "codemirror_mode": {
    "name": "ipython",
    "version": 3
   },
   "file_extension": ".py",
   "mimetype": "text/x-python",
   "name": "python",
   "nbconvert_exporter": "python",
   "pygments_lexer": "ipython3",
   "version": "3.10.12"
  }
 },
 "nbformat": 4,
 "nbformat_minor": 5
}
